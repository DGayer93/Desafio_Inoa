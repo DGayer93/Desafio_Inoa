{
 "cells": [
  {
   "cell_type": "code",
   "execution_count": 5,
   "metadata": {},
   "outputs": [],
   "source": [
    "import yfinance as yf\n",
    "import pandas as pd\n",
    "from datetime import datetime\n",
    "import pytz"
   ]
  },
  {
   "cell_type": "code",
   "execution_count": 6,
   "metadata": {},
   "outputs": [],
   "source": [
    "vale = yf.Ticker(\"VALE3.SA\")\n",
    "\n",
    "# GET TODAYS DATE AND CONVERT IT TO A STRING WITH YYYY-MM-DD FORMAT (YFINANCE EXPECTS THAT FORMAT)\n",
    "vale_hist = vale.history(period='30m',interval='1m')\n",
    "df = pd.DataFrame(vale_hist)"
   ]
  },
  {
   "cell_type": "code",
   "execution_count": 7,
   "metadata": {},
   "outputs": [],
   "source": [
    "last_instance = df.iloc[-1,:]"
   ]
  },
  {
   "cell_type": "code",
   "execution_count": 8,
   "metadata": {},
   "outputs": [
    {
     "name": "stdout",
     "output_type": "stream",
     "text": [
      "Open                60.200001\n",
      "High                60.299999\n",
      "Low                 60.169998\n",
      "Close               60.200001\n",
      "Volume          114500.000000\n",
      "Dividends            0.000000\n",
      "Stock Splits         0.000000\n",
      "Name: 2024-04-04 16:54:00-03:00, dtype: float64\n"
     ]
    }
   ],
   "source": [
    "print(last_instance)"
   ]
  },
  {
   "cell_type": "code",
   "execution_count": 9,
   "metadata": {},
   "outputs": [
    {
     "data": {
      "text/plain": [
       "Timestamp('2024-04-04 16:54:00-0300', tz='America/Sao_Paulo')"
      ]
     },
     "execution_count": 9,
     "metadata": {},
     "output_type": "execute_result"
    }
   ],
   "source": [
    "df.index[-1]"
   ]
  },
  {
   "cell_type": "code",
   "execution_count": 10,
   "metadata": {},
   "outputs": [
    {
     "data": {
      "text/plain": [
       "60.20000076293945"
      ]
     },
     "execution_count": 10,
     "metadata": {},
     "output_type": "execute_result"
    }
   ],
   "source": [
    "last_instance['Open']"
   ]
  },
  {
   "cell_type": "code",
   "execution_count": 11,
   "metadata": {},
   "outputs": [
    {
     "name": "stdout",
     "output_type": "stream",
     "text": [
      "['Open', 'High', 'Low', 'Close', 'Volume', 'Dividends', 'Stock Splits']\n"
     ]
    }
   ],
   "source": [
    "print(last_instance.index.to_list())"
   ]
  },
  {
   "cell_type": "code",
   "execution_count": 12,
   "metadata": {},
   "outputs": [],
   "source": [
    "\n",
    "def convert_minutes_to_seconds(time_string):\n",
    "    try:\n",
    "        # Extract the numerical part of the string\n",
    "        num = int(time_string[:-1])\n",
    "        # Extract the unit part of the string\n",
    "        unit = time_string[-1]\n",
    "        \n",
    "        if unit == 'm':\n",
    "            return num * 60  # Convert minutes to seconds\n",
    "        else:\n",
    "            raise ValueError(\"Invalid unit. Please use 'm' for minutes.\")\n",
    "    except ValueError as e:\n",
    "        print(\"Error:\", e)\n",
    "        return None"
   ]
  },
  {
   "cell_type": "code",
   "execution_count": 17,
   "metadata": {},
   "outputs": [],
   "source": [
    "\n",
    "def convert_to_sp_timezone(date):\n",
    "    timezone_sp = pytz.timezone(\"America/Sao_Paulo\")\n",
    "    date_object_utc = pytz.utc.localize(timezone_sp)\n",
    "    date_object_sp = date_object_utc.astimezone(timezone_sp)\n",
    "    return date_object_sp"
   ]
  },
  {
   "cell_type": "code",
   "execution_count": 18,
   "metadata": {},
   "outputs": [
    {
     "ename": "AttributeError",
     "evalue": "'America/Sao_Paulo' object has no attribute 'tzinfo'",
     "output_type": "error",
     "traceback": [
      "\u001b[1;31m---------------------------------------------------------------------------\u001b[0m",
      "\u001b[1;31mAttributeError\u001b[0m                            Traceback (most recent call last)",
      "Cell \u001b[1;32mIn[18], line 1\u001b[0m\n\u001b[1;32m----> 1\u001b[0m teste \u001b[38;5;241m=\u001b[39m \u001b[43mconvert_to_sp_timezone\u001b[49m\u001b[43m(\u001b[49m\u001b[43mdf\u001b[49m\u001b[38;5;241;43m.\u001b[39;49m\u001b[43mindex\u001b[49m\u001b[43m[\u001b[49m\u001b[38;5;241;43m-\u001b[39;49m\u001b[38;5;241;43m1\u001b[39;49m\u001b[43m]\u001b[49m\u001b[43m)\u001b[49m\n",
      "Cell \u001b[1;32mIn[17], line 3\u001b[0m, in \u001b[0;36mconvert_to_sp_timezone\u001b[1;34m(date)\u001b[0m\n\u001b[0;32m      1\u001b[0m \u001b[38;5;28;01mdef\u001b[39;00m \u001b[38;5;21mconvert_to_sp_timezone\u001b[39m(date):\n\u001b[0;32m      2\u001b[0m     timezone_sp \u001b[38;5;241m=\u001b[39m pytz\u001b[38;5;241m.\u001b[39mtimezone(\u001b[38;5;124m\"\u001b[39m\u001b[38;5;124mAmerica/Sao_Paulo\u001b[39m\u001b[38;5;124m\"\u001b[39m)\n\u001b[1;32m----> 3\u001b[0m     date_object_utc \u001b[38;5;241m=\u001b[39m \u001b[43mpytz\u001b[49m\u001b[38;5;241;43m.\u001b[39;49m\u001b[43mutc\u001b[49m\u001b[38;5;241;43m.\u001b[39;49m\u001b[43mlocalize\u001b[49m\u001b[43m(\u001b[49m\u001b[43mtimezone_sp\u001b[49m\u001b[43m)\u001b[49m\n\u001b[0;32m      4\u001b[0m     date_object_sp \u001b[38;5;241m=\u001b[39m date_object_utc\u001b[38;5;241m.\u001b[39mastimezone(timezone_sp)\n\u001b[0;32m      5\u001b[0m     \u001b[38;5;28;01mreturn\u001b[39;00m date_object_sp\n",
      "File \u001b[1;32mc:\\Users\\danie\\OneDrive\\Documents\\Inoa\\my_env\\Lib\\site-packages\\pytz\\__init__.py:244\u001b[0m, in \u001b[0;36mUTC.localize\u001b[1;34m(self, dt, is_dst)\u001b[0m\n\u001b[0;32m    242\u001b[0m \u001b[38;5;28;01mdef\u001b[39;00m \u001b[38;5;21mlocalize\u001b[39m(\u001b[38;5;28mself\u001b[39m, dt, is_dst\u001b[38;5;241m=\u001b[39m\u001b[38;5;28;01mFalse\u001b[39;00m):\n\u001b[0;32m    243\u001b[0m \u001b[38;5;250m    \u001b[39m\u001b[38;5;124;03m'''Convert naive time to local time'''\u001b[39;00m\n\u001b[1;32m--> 244\u001b[0m     \u001b[38;5;28;01mif\u001b[39;00m \u001b[43mdt\u001b[49m\u001b[38;5;241;43m.\u001b[39;49m\u001b[43mtzinfo\u001b[49m \u001b[38;5;129;01mis\u001b[39;00m \u001b[38;5;129;01mnot\u001b[39;00m \u001b[38;5;28;01mNone\u001b[39;00m:\n\u001b[0;32m    245\u001b[0m         \u001b[38;5;28;01mraise\u001b[39;00m \u001b[38;5;167;01mValueError\u001b[39;00m(\u001b[38;5;124m'\u001b[39m\u001b[38;5;124mNot naive datetime (tzinfo is already set)\u001b[39m\u001b[38;5;124m'\u001b[39m)\n\u001b[0;32m    246\u001b[0m     \u001b[38;5;28;01mreturn\u001b[39;00m dt\u001b[38;5;241m.\u001b[39mreplace(tzinfo\u001b[38;5;241m=\u001b[39m\u001b[38;5;28mself\u001b[39m)\n",
      "\u001b[1;31mAttributeError\u001b[0m: 'America/Sao_Paulo' object has no attribute 'tzinfo'"
     ]
    }
   ],
   "source": [
    "teste = convert_to_sp_timezone(df.index[-1])"
   ]
  },
  {
   "cell_type": "code",
   "execution_count": null,
   "metadata": {},
   "outputs": [],
   "source": []
  }
 ],
 "metadata": {
  "kernelspec": {
   "display_name": "my_env",
   "language": "python",
   "name": "python3"
  },
  "language_info": {
   "codemirror_mode": {
    "name": "ipython",
    "version": 3
   },
   "file_extension": ".py",
   "mimetype": "text/x-python",
   "name": "python",
   "nbconvert_exporter": "python",
   "pygments_lexer": "ipython3",
   "version": "3.12.2"
  }
 },
 "nbformat": 4,
 "nbformat_minor": 2
}
